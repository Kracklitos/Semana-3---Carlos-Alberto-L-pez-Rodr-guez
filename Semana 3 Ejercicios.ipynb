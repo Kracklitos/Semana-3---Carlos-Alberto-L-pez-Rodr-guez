{
 "cells": [
  {
   "cell_type": "markdown",
   "metadata": {},
   "source": [
    "## Ejercicios\n",
    "\n",
    "1. Crear una clase Libro con atributos titulo, autor, y paginas. Incluir un método que imprima los detalles del libro.\n"
   ]
  },
  {
   "cell_type": "code",
   "execution_count": 1,
   "metadata": {},
   "outputs": [
    {
     "name": "stdout",
     "output_type": "stream",
     "text": [
      "El título del libro es :  Edad de Oro , lo escribió :  José Martí  y tiene  234  páginas\n"
     ]
    }
   ],
   "source": [
    "class Libro:\n",
    "    def __init__(self, titulo:str, autor:str, paginas:int):\n",
    "        self.titulo=titulo\n",
    "        self.autor= autor\n",
    "        self.paginas= paginas\n",
    "    \n",
    "    def datos(self):\n",
    "        print(\"El título del libro es : \", self.titulo, \", lo escribió : \",self.autor,\" y tiene \",self.paginas, \" páginas\")\n",
    "\n",
    "libro = Libro(\"Edad de Oro\",\"José Martí\", 234)\n",
    "libro.datos()"
   ]
  },
  {
   "cell_type": "markdown",
   "metadata": {},
   "source": [
    "2. Crear una clase CuentaBancaria con atributos titular y saldo. Incluir métodos para depositar y retirar dinero, asegurando que el saldo no sea negativo después de un retiro."
   ]
  },
  {
   "cell_type": "code",
   "execution_count": 2,
   "metadata": {},
   "outputs": [
    {
     "name": "stdout",
     "output_type": "stream",
     "text": [
      "Depósito exitoso. Saldo actual: 1200\n",
      "Retiro exitoso. Saldo actual: 1050\n"
     ]
    }
   ],
   "source": [
    "class CuentaBancaria:\n",
    "    def __init__(self, titular, saldo=0):\n",
    "        self.titular = titular\n",
    "        self.saldo = saldo\n",
    "\n",
    "    def depositar(self, cantidad):\n",
    "        if cantidad > 0:\n",
    "            self.saldo += cantidad\n",
    "            print(f\"Depósito exitoso. Saldo actual: {self.saldo}\")\n",
    "        else:\n",
    "            print(\"La cantidad debe ser mayor que cero.\")\n",
    "\n",
    "    def retirar(self, cantidad):\n",
    "        if cantidad > 0 and cantidad <= self.saldo:\n",
    "            self.saldo -= cantidad\n",
    "            print(f\"Retiro exitoso. Saldo actual: {self.saldo}\")\n",
    "        else:\n",
    "            print(\"Fondos insuficientes o cantidad inválida.\")\n",
    "\n",
    "# Ejemplo de uso\n",
    "mi_cuenta = CuentaBancaria(titular=\"Juan Pérez\", saldo=1000)\n",
    "mi_cuenta.depositar(200)\n",
    "mi_cuenta.retirar(150)"
   ]
  },
  {
   "cell_type": "markdown",
   "metadata": {},
   "source": [
    "3. Crea un sistema de gestión de empleados que incluye diferentes tipos de empleados (por ejemplo, empleados de tiempo completo, empleados a medio tiempo y contratistas). Cada tipo de empleado debe tener su propia implementación para calcular el salario.\n",
    "\n",
    "    - Crea una clase base abstracta `Empleado` con métodos abstractos `calcular_salario` y `mostrar_informacion`.\n",
    "    - Crea clases derivadas `EmpleadoTiempoCompleto`, EmpleadoMedioTiempo y Contratista que implementen los métodos abstractos.\n",
    "    - Crea una función que reciba una lista de empleados y muestre la información y el salario de cada uno."
   ]
  },
  {
   "cell_type": "code",
   "execution_count": 3,
   "metadata": {},
   "outputs": [
    {
     "name": "stdout",
     "output_type": "stream",
     "text": [
      "Empleado a tiempo completo: Ana\n",
      "Salario: $50000\n",
      "Empleado a medio tiempo: Carlos\n",
      "Salario: $500\n",
      "Contratista: Eva\n",
      "Salario: $1500\n"
     ]
    }
   ],
   "source": [
    "from abc import ABC, abstractmethod\n",
    "\n",
    "class Empleado(ABC):\n",
    "    def __init__(self, nombre):\n",
    "        self.nombre = nombre\n",
    "\n",
    "    @abstractmethod\n",
    "    def calcular_salario(self):\n",
    "        pass\n",
    "\n",
    "    @abstractmethod\n",
    "    def mostrar_informacion(self):\n",
    "        pass\n",
    "\n",
    "class EmpleadoTiempoCompleto(Empleado):\n",
    "    def __init__(self, nombre, salario_base):\n",
    "        super().__init__(nombre)\n",
    "        self.salario_base = salario_base\n",
    "\n",
    "    def calcular_salario(self):\n",
    "        return self.salario_base\n",
    "\n",
    "    def mostrar_informacion(self):\n",
    "        print(f\"Empleado a tiempo completo: {self.nombre}\")\n",
    "\n",
    "class EmpleadoMedioTiempo(Empleado):\n",
    "    def __init__(self, nombre, horas_trabajadas, tarifa_por_hora):\n",
    "        super().__init__(nombre)\n",
    "        self.horas_trabajadas = horas_trabajadas\n",
    "        self.tarifa_por_hora = tarifa_por_hora\n",
    "\n",
    "    def calcular_salario(self):\n",
    "        return self.horas_trabajadas * self.tarifa_por_hora\n",
    "\n",
    "    def mostrar_informacion(self):\n",
    "        print(f\"Empleado a medio tiempo: {self.nombre}\")\n",
    "\n",
    "class Contratista(Empleado):\n",
    "    def __init__(self, nombre, tarifa_por_proyecto):\n",
    "        super().__init__(nombre)\n",
    "        self.tarifa_por_proyecto = tarifa_por_proyecto\n",
    "\n",
    "    def calcular_salario(self):\n",
    "        return self.tarifa_por_proyecto\n",
    "\n",
    "    def mostrar_informacion(self):\n",
    "        print(f\"Contratista: {self.nombre}\")\n",
    "\n",
    "\n",
    "empleados = [\n",
    "    EmpleadoTiempoCompleto(\"Ana\", salario_base=50000),\n",
    "    EmpleadoMedioTiempo(\"Carlos\", horas_trabajadas=20, tarifa_por_hora=25),\n",
    "    Contratista(\"Eva\", tarifa_por_proyecto=1500)\n",
    "]\n",
    "def listar(lista):\n",
    "    for empleado in lista:\n",
    "        empleado.mostrar_informacion()\n",
    "        print(f\"Salario: ${empleado.calcular_salario()}\")\n",
    "\n",
    "listar(empleados)"
   ]
  }
 ],
 "metadata": {
  "kernelspec": {
   "display_name": "Python 3",
   "language": "python",
   "name": "python3"
  },
  "language_info": {
   "codemirror_mode": {
    "name": "ipython",
    "version": 3
   },
   "file_extension": ".py",
   "mimetype": "text/x-python",
   "name": "python",
   "nbconvert_exporter": "python",
   "pygments_lexer": "ipython3",
   "version": "3.12.3"
  }
 },
 "nbformat": 4,
 "nbformat_minor": 2
}
